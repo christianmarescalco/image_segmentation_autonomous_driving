{
  "nbformat": 4,
  "nbformat_minor": 0,
  "metadata": {
    "colab": {
      "provenance": []
    },
    "kernelspec": {
      "name": "python3",
      "display_name": "Python 3"
    },
    "language_info": {
      "name": "python"
    },
    "accelerator": "GPU"
  },
  "cells": [
    {
      "cell_type": "code",
      "metadata": {
        "id": "VU4ZroCh-rZ3"
      },
      "source": [
        "import tensorflow as tf\n",
        "import matplotlib.pyplot as plt\n",
        "import numpy as np\n",
        "import skimage.io as io"
      ],
      "execution_count": null,
      "outputs": []
    },
    {
      "cell_type": "code",
      "metadata": {
        "colab": {
          "base_uri": "https://localhost:8080/"
        },
        "id": "WaWFJCY8-snX",
        "outputId": "1024619d-c5e8-4012-cd39-ef26e86a62b2"
      },
      "source": [
        "from keras_segmentation.models.unet import vgg_unet\n",
        "\n",
        "model = vgg_unet(n_classes=66)\n",
        "\n",
        "model.train(\n",
        "    train_images =  \"/content/drive/MyDrive/dataset/training/immagini/\",\n",
        "    train_annotations = \"/content/drive/MyDrive/dataset/training/labels/\",\n",
        "    checkpoints_path = None , #/content/drive/MyDrive/fcn32resnet50/fcn_32_resnet50_1\n",
        "    epochs=5,\n",
        "    batch_size = 2,\n",
        "    auto_resume_checkpoint=False,\n",
        "    verify_dataset = False,\n",
        "    steps_per_epoch = 2500,\n",
        "    validate = None,\n",
        "    val_images =  \"/content/drive/MyDrive/dataset/validation/immagini/\",\n",
        "    val_annotations= \"/content/drive/MyDrive/dataset/validation/labels/\",\n",
        "    val_batch_size=2,\n",
        "    gen_use_multiprocessing=True,\n",
        "    optimizer_name='adam'\n",
        ")"
      ],
      "execution_count": null,
      "outputs": [
        {
          "output_type": "stream",
          "name": "stdout",
          "text": [
            "Epoch 1/5\n",
            "2500/2500 [==============================] - 6529s 3s/step - loss: 1.1896 - accuracy: 0.6865\n",
            "Epoch 2/5\n",
            "2500/2500 [==============================] - 2044s 818ms/step - loss: 0.9278 - accuracy: 0.7461\n",
            "Epoch 3/5\n",
            "2500/2500 [==============================] - 2047s 819ms/step - loss: 0.8419 - accuracy: 0.7670\n",
            "Epoch 4/5\n",
            "2500/2500 [==============================] - 2047s 819ms/step - loss: 0.7880 - accuracy: 0.7798\n",
            "Epoch 5/5\n",
            "2500/2500 [==============================] - 2046s 818ms/step - loss: 0.7485 - accuracy: 0.7892\n"
          ]
        }
      ]
    },
    {
      "cell_type": "code",
      "metadata": {
        "colab": {
          "base_uri": "https://localhost:8080/"
        },
        "id": "mC_isS4j-uB-",
        "outputId": "5c443bd2-5d57-4696-9993-7523fa79f4de"
      },
      "source": [
        "from keras_segmentation.predict import get_colored_segmentation_image,predict_multiple,evaluate\n",
        "\n",
        "color_map = np.asarray([\n",
        "      [165, 42, 42],\n",
        "      [0, 192, 0],\n",
        "      [196, 196, 196],\n",
        "      [190, 153, 153],\n",
        "      [180, 165, 180],\n",
        "      [102, 102, 156],\n",
        "      [102, 102, 156],\n",
        "      [128, 64, 255],\n",
        "      [140, 140, 200],\n",
        "      [170, 170, 170],\n",
        "      [250, 170, 160],\n",
        "      [96, 96, 96],\n",
        "      [230, 150, 140],\n",
        "      [128, 64, 128],\n",
        "      [110, 110, 110],\n",
        "      [244, 35, 232],\n",
        "      [150, 100, 100],\n",
        "      [70, 70, 70],\n",
        "      [150, 120, 90],\n",
        "      [220, 20, 60],\n",
        "      [255, 0, 0],\n",
        "      [255, 0, 0],\n",
        "      [255, 0, 0],\n",
        "      [200, 128, 128],\n",
        "      [255, 255, 255],\n",
        "      [64, 170, 64],\n",
        "      [128, 64, 64],\n",
        "      [70, 130, 180],\n",
        "      [255, 255, 255],\n",
        "      [152, 251, 152],\n",
        "      [107, 142, 35],\n",
        "      [0, 170, 30],\n",
        "      [255, 255, 128],\n",
        "      [250, 0, 30],\n",
        "      [0, 0, 0],\n",
        "      [220, 220, 220],\n",
        "      [170, 170, 170],\n",
        "      [222, 40, 40],\n",
        "      [100, 170, 30],\n",
        "      [40, 40, 40],\n",
        "      [33, 33, 33],\n",
        "      [170, 170, 170],\n",
        "      [0, 0, 142],\n",
        "      [170, 170, 170],\n",
        "      [210, 170, 100],\n",
        "      [153, 153, 153],\n",
        "      [128, 128, 128],\n",
        "      [0, 0, 142],\n",
        "      [250, 170, 30],\n",
        "      [192, 192, 192],\n",
        "      [220, 220, 0],\n",
        "      [180, 165, 180],\n",
        "      [119, 11, 32],\n",
        "      [0, 0, 142],\n",
        "      [0, 60, 100],\n",
        "      [0, 0, 142],\n",
        "      [0, 0, 90],\n",
        "      [0, 0, 230],\n",
        "      [0, 80, 100],\n",
        "      [128, 64, 64],\n",
        "      [0, 0, 110],\n",
        "      [0, 0, 70],\n",
        "      [0, 0, 192],\n",
        "      [32, 32, 32],\n",
        "      [0, 0, 0],\n",
        "      [0, 0, 0],\n",
        "      ])\n",
        "\n",
        "\n",
        "out = predict_multiple(model=model, inps=None, inp_dir='/content/drive/MyDrive/immaginitest', out_dir='/content/drive/MyDrive/data',\n",
        "                     checkpoints_path=None, overlay_img=False,\n",
        "                     class_names=None, show_legends=False, colors=color_map,\n",
        "                     prediction_width=None, prediction_height=None, read_image_type=1)\n",
        "\n",
        "\n"
      ],
      "execution_count": null,
      "outputs": [
        {
          "output_type": "stream",
          "name": "stderr",
          "text": [
            "100%|██████████| 6/6 [00:21<00:00,  3.51s/it]\n"
          ]
        }
      ]
    },
    {
      "cell_type": "code",
      "metadata": {
        "id": "n7XcmI2msfvT"
      },
      "source": [
        "model.save()"
      ],
      "execution_count": null,
      "outputs": []
    },
    {
      "cell_type": "code",
      "metadata": {
        "colab": {
          "base_uri": "https://localhost:8080/"
        },
        "id": "fS32xowVmWb_",
        "outputId": "5f42ea8f-8587-484d-8c12-89b8b7c77077"
      },
      "source": [
        "evaluate(model=model, inp_images=None, annotations=None,\n",
        "             inp_images_dir='/content/drive/MyDrive/immaginiiou', annotations_dir='/content/drive/MyDrive/annotazioni', checkpoints_path=None, read_image_type=1)"
      ],
      "execution_count": null,
      "outputs": [
        {
          "output_type": "stream",
          "name": "stderr",
          "text": [
            "4it [00:09,  2.31s/it]\n"
          ]
        },
        {
          "output_type": "execute_result",
          "data": {
            "text/plain": [
              "{'class_wise_IU': array([0.05388547, 0.        , 0.        , 0.        , 0.        ,\n",
              "        0.        , 0.        , 0.        , 0.        , 0.        ,\n",
              "        0.        , 0.        , 0.        , 0.        , 0.        ,\n",
              "        0.        , 0.        , 0.        , 0.        , 0.        ,\n",
              "        0.        , 0.        , 0.        , 0.        , 0.        ,\n",
              "        0.        , 0.        , 0.        , 0.        , 0.        ,\n",
              "        0.        , 0.        , 0.        , 0.        , 0.        ,\n",
              "        0.        , 0.        , 0.        , 0.        , 0.        ,\n",
              "        0.        , 0.        , 0.        , 0.        , 0.        ,\n",
              "        0.        , 0.        , 0.        , 0.        , 0.        ,\n",
              "        0.        , 0.        , 0.        , 0.        , 0.        ,\n",
              "        0.        , 0.        , 0.        , 0.        , 0.        ,\n",
              "        0.        , 0.        , 0.        , 0.        , 0.        ,\n",
              "        0.        ]),\n",
              " 'frequency_weighted_IU': 0.05032439502954125,\n",
              " 'mean_IU': 0.0008164465190592499}"
            ]
          },
          "metadata": {},
          "execution_count": 8
        }
      ]
    },
    {
      "cell_type": "code",
      "metadata": {
        "id": "p8Al3F4QV2yU"
      },
      "source": [
        "from keras_segmentation.data_utils.data_loader import get_image_array\n",
        "from keras_segmentation.models.config import IMAGE_ORDERING\n",
        "import cv2\n",
        "x = get_image_array('/content/drive/MyDrive/immaginitest/WEiJ6ccLz4OsXfWhKAIboQ.jpg', 608, 416,\n",
        "                      ordering=IMAGE_ORDERING)\n",
        "pr = model.predict(np.array([x]))[0]\n",
        "pr = pr.reshape((208,  304, 66)).argmax(axis=2)\n",
        "pr = cv2.resize(pr, (1920, 1080), interpolation=cv2.INTER_NEAREST)\n"
      ],
      "execution_count": null,
      "outputs": []
    },
    {
      "cell_type": "code",
      "metadata": {
        "colab": {
          "base_uri": "https://localhost:8080/"
        },
        "id": "Wf67Lxa_dJk2",
        "outputId": "84fab12d-ce4a-4f66-ccb4-e6b457a11282"
      },
      "source": [
        "pr.max()"
      ],
      "execution_count": null,
      "outputs": [
        {
          "output_type": "execute_result",
          "data": {
            "text/plain": [
              "56"
            ]
          },
          "metadata": {},
          "execution_count": 51
        }
      ]
    },
    {
      "cell_type": "code",
      "metadata": {
        "id": "L5xpA3N_aCSM"
      },
      "source": [
        "import imageio\n",
        "imageio.imsave('/content/drive/MyDrive/bn/WEiJ6ccLz4OsXfWhKAIboQ.jpg',pr, np.uint8)"
      ],
      "execution_count": null,
      "outputs": []
    },
    {
      "cell_type": "code",
      "metadata": {
        "colab": {
          "base_uri": "https://localhost:8080/",
          "height": 257
        },
        "id": "THjW3ChDajkL",
        "outputId": "d1bc3723-1bb4-4d9f-dec2-beb50a5eb445"
      },
      "source": [
        "plt.figure(1)\n",
        "plt.imshow(pr,clim = [0,65],cmap = 'gray')"
      ],
      "execution_count": null,
      "outputs": [
        {
          "output_type": "execute_result",
          "data": {
            "text/plain": [
              "<matplotlib.image.AxesImage at 0x7f66cf3a3110>"
            ]
          },
          "metadata": {},
          "execution_count": 45
        },
        {
          "output_type": "display_data",
          "data": {
            "image/png": "[encoded data removed]",
            "text/plain": [
              "<Figure size 432x288 with 1 Axes>"
            ]
          },
          "metadata": {
            "needs_background": "light"
          }
        }
      ]
    },
    {
      "cell_type": "code",
      "metadata": {
        "colab": {
          "base_uri": "https://localhost:8080/"
        },
        "id": "L72kzJqyexp5",
        "outputId": "60d2892c-0ec6-4c13-8ba2-986b1bdf46ba"
      },
      "source": [
        "import os,re\n",
        "#from PIL import Image\n",
        "import skimage.io as io\n",
        "import numpy as np\n",
        "import cv2\n",
        "import matplotlib.pyplot as plt\n",
        "%matplotlib inline\n",
        "color_map = np.asarray([\n",
        "      [165, 42, 42],\n",
        "      [0, 192, 0],\n",
        "      [196, 196, 196],\n",
        "      [190, 153, 153],\n",
        "      [180, 165, 180],\n",
        "      [102, 102, 156],\n",
        "      [102, 102, 156],\n",
        "      [128, 64, 255],\n",
        "      [140, 140, 200],\n",
        "      [170, 170, 170],\n",
        "      [250, 170, 160],\n",
        "      [96, 96, 96],\n",
        "      [230, 150, 140],\n",
        "      [128, 64, 128],\n",
        "      [110, 110, 110],\n",
        "      [244, 35, 232],\n",
        "      [150, 100, 100],\n",
        "      [70, 70, 70],\n",
        "      [150, 120, 90],\n",
        "      [220, 20, 60],\n",
        "      [255, 0, 0],\n",
        "      [255, 0, 0],\n",
        "      [255, 0, 0],\n",
        "      [200, 128, 128],\n",
        "      [255, 255, 255],\n",
        "      [64, 170, 64],\n",
        "      [128, 64, 64],\n",
        "      [70, 130, 180],\n",
        "      [255, 255, 255],\n",
        "      [152, 251, 152],\n",
        "      [107, 142, 35],\n",
        "      [0, 170, 30],\n",
        "      [255, 255, 128],\n",
        "      [250, 0, 30],\n",
        "      [0, 0, 0],\n",
        "      [220, 220, 220],\n",
        "      [170, 170, 170],\n",
        "      [222, 40, 40],\n",
        "      [100, 170, 30],\n",
        "      [40, 40, 40],\n",
        "      [33, 33, 33],\n",
        "      [170, 170, 170],\n",
        "      [0, 0, 142],\n",
        "      [170, 170, 170],\n",
        "      [210, 170, 100],\n",
        "      [153, 153, 153],\n",
        "      [128, 128, 128],\n",
        "      [0, 0, 142],\n",
        "      [250, 170, 30],\n",
        "      [192, 192, 192],\n",
        "      [220, 220, 0],\n",
        "      [180, 165, 180],\n",
        "      [119, 11, 32],\n",
        "      [0, 0, 142],\n",
        "      [0, 60, 100],\n",
        "      [0, 0, 142],\n",
        "      [0, 0, 90],\n",
        "      [0, 0, 230],\n",
        "      [0, 80, 100],\n",
        "      [128, 64, 64],\n",
        "      [0, 0, 110],\n",
        "      [0, 0, 70],\n",
        "      [0, 0, 192],\n",
        "      [32, 32, 32],\n",
        "      [0, 0, 0],\n",
        "      [0, 0, 0],\n",
        "      ])\n",
        "\n",
        "def atoi(text) :\n",
        "    return int(text) if text.isdigit() else text\n",
        "\n",
        "def natural_keys(text) :\n",
        "    return [atoi(c) for c in re.split('(\\d+)', text)]\n",
        "\n",
        "def segmantation_images(path,new_path, debug_test_num = 0):\n",
        "    filenames = []\n",
        "\n",
        "    for root, dirnames, filenames in os.walk(path):\n",
        "        filenames.sort(key = natural_keys)\n",
        "        rootpath = root\n",
        "\n",
        "    #print(filenames)\n",
        "    count = 0\n",
        "    for item in filenames:\n",
        "\n",
        "        if debug_test_num !=0:\n",
        "            if debug_test_num <= count:\n",
        "                break\n",
        "\n",
        "        count = count + 1\n",
        "        if os.path.isfile(path+item) and not(os.path.isfile(new_path+item)):\n",
        "            f, e = os.path.splitext(item)\n",
        "            image_rgb = io.imread(path+item)\n",
        "            image_rgb = np.asarray(image_rgb)\n",
        "            image_rgb = np.delete(image_rgb,3,axis = 2)\n",
        "            new_image = np.zeros((image_rgb.shape[0],image_rgb.shape[1],3)).astype('int')\n",
        "\n",
        "            for index, row  in enumerate(color_map):\n",
        "                new_image[(image_rgb[:,:,0]==row[0])&\n",
        "                          (image_rgb[:,:,1]==row[1])&\n",
        "                          (image_rgb[:,:,2]==row[2])]=np.array([index+1,index+1,index+1]).reshape(1,3)\n",
        "\n",
        "            new_image = new_image[:,:,0]\n",
        "            output_filename = new_path+f+'.png'\n",
        "            cv2.imwrite(output_filename,new_image)\n",
        "            print('writing file: ',output_filename)\n",
        "\n",
        "        else:\n",
        "            print('no file')\n",
        "\n",
        "    print(\"number of files written: \",count)\n",
        "\n",
        "\n",
        "segmantation_images('/content/drive/MyDrive/annotazioni/','/media/')\n"
      ],
      "execution_count": null,
      "outputs": [
        {
          "output_type": "stream",
          "name": "stdout",
          "text": [
            "writing file:  /media/WEiJ6ccLz4OsXfWhKAIboQ.png\n",
            "writing file:  /media/Z8HD6Drv-f1ihS8RezXFyQ.png\n",
            "writing file:  /media/ZlIseyu88ZRt6zHUMZb-Ag.png\n",
            "writing file:  /media/jqh8xIPwEZiRmWEwY9ZVaA.png\n",
            "number of files written:  4\n"
          ]
        }
      ]
    },
    {
      "cell_type": "code",
      "metadata": {
        "id": "Q77vA2CkfAYT"
      },
      "source": [
        "from keras_segmentation.metrics import get_iou\n",
        "\n",
        "annotazione = io.imread('/media/WEiJ6ccLz4OsXfWhKAIboQ.png')\n",
        "res = get_iou(annotazione,pr,66)"
      ],
      "execution_count": null,
      "outputs": []
    },
    {
      "cell_type": "code",
      "metadata": {
        "colab": {
          "base_uri": "https://localhost:8080/"
        },
        "id": "egp1MMGvfPU8",
        "outputId": "5bdcf8a5-e3ff-4081-b40e-5796d5d2de6f"
      },
      "source": [
        "res"
      ],
      "execution_count": null,
      "outputs": [
        {
          "output_type": "execute_result",
          "data": {
            "text/plain": [
              "array([0.07198706, 0.        , 0.        , 0.19320308, 0.        ,\n",
              "       0.        , 0.        , 0.        , 0.        , 0.        ,\n",
              "       0.        , 0.        , 0.        , 0.        , 0.72631382,\n",
              "       0.        , 0.09929505, 0.        , 0.29390834, 0.        ,\n",
              "       0.00633965, 0.        , 0.        , 0.        , 0.        ,\n",
              "       0.        , 0.        , 0.        , 0.95632394, 0.06321261,\n",
              "       0.        , 0.68971345, 0.        , 0.        , 0.        ,\n",
              "       0.        , 0.        , 0.        , 0.        , 0.        ,\n",
              "       0.        , 0.        , 0.        , 0.        , 0.        ,\n",
              "       0.19179266, 0.07455299, 0.        , 0.        , 0.0212    ,\n",
              "       0.        , 0.        , 0.        , 0.        , 0.        ,\n",
              "       0.        , 0.6504778 , 0.        , 0.        , 0.        ,\n",
              "       0.        , 0.        , 0.        , 0.        , 0.        ,\n",
              "       0.        ])"
            ]
          },
          "metadata": {},
          "execution_count": 55
        }
      ]
    },
    {
      "cell_type": "code",
      "metadata": {
        "colab": {
          "base_uri": "https://localhost:8080/"
        },
        "id": "tmTsbKUEfSBs",
        "outputId": "b22c48eb-f1d5-4bc2-dc6c-7eb8d9134e6f"
      },
      "source": [
        "i = 0\n",
        "sum =0\n",
        "for elem in res:\n",
        "  if elem != 0:\n",
        "    i=i+1\n",
        "    sum += elem\n",
        "\n",
        "print(sum/i)"
      ],
      "execution_count": null,
      "outputs": [
        {
          "output_type": "stream",
          "name": "stdout",
          "text": [
            "0.3106400341178807\n"
          ]
        }
      ]
    }
  ]
}